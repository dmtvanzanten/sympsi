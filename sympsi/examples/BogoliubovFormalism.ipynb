{
 "cells": [
  {
   "cell_type": "markdown",
   "id": "bf017991-efbf-4ab8-a076-1c136a4e42bb",
   "metadata": {},
   "source": [
    "# Load packages"
   ]
  },
  {
   "cell_type": "code",
   "execution_count": 1,
   "id": "3793ccd0-d382-4c1c-8342-baefcf87034d",
   "metadata": {},
   "outputs": [],
   "source": [
    "import numpy as np\n",
    "from sympy import *\n",
    "from sympsi import *\n",
    "\n",
    "from sympy.physics.secondquant import F\n",
    "from sympy.physics.quantum.dagger import Dagger\n",
    "from sympy.physics.quantum import TensorProduct\n",
    "from sympy.physics.quantum import Operator\n",
    "from sympy.matrices import Matrix, banded\n",
    "\n",
    "# This is required to get around a bug in sympy\n",
    "Matrix.adjoint = lambda self: self.T.applyfunc(Dagger) \n"
   ]
  },
  {
   "cell_type": "code",
   "execution_count": 2,
   "id": "6f5801da-234a-471e-bc4f-e8d62df13a7c",
   "metadata": {},
   "outputs": [],
   "source": [
    "# We start with creating the full pairing Hamiltonian for N sites\n",
    "N = 4\n",
    "\n",
    "a = symbols(f\"a_:{N}\")\n",
    "a = [Operator(ai) for ai in a]"
   ]
  },
  {
   "cell_type": "code",
   "execution_count": 3,
   "id": "84149c7f-90f7-4b40-b71f-3365e3e0e3c3",
   "metadata": {},
   "outputs": [
    {
     "data": {
      "text/latex": [
       "$\\displaystyle \\left[\\begin{matrix}a_{0}\\\\a_{1}\\\\a_{2}\\\\a_{3}\\\\a_{0}^{\\dagger}\\\\a_{1}^{\\dagger}\\\\a_{2}^{\\dagger}\\\\a_{3}^{\\dagger}\\end{matrix}\\right]$"
      ],
      "text/plain": [
       "Matrix([\n",
       "[        a_0],\n",
       "[        a_1],\n",
       "[        a_2],\n",
       "[        a_3],\n",
       "[Dagger(a_0)],\n",
       "[Dagger(a_1)],\n",
       "[Dagger(a_2)],\n",
       "[Dagger(a_3)]])"
      ]
     },
     "execution_count": 3,
     "metadata": {},
     "output_type": "execute_result"
    }
   ],
   "source": [
    "# We construct the vector containing the annihilation and creation operators for fermions on each site\n",
    "# This follows the explanation at https://topocondmat.org/w1_topointro/1D.html\n",
    "c = Matrix(a + [Dagger(ai) for ai in a])\n",
    "c"
   ]
  },
  {
   "cell_type": "code",
   "execution_count": 4,
   "id": "475935e7-55c9-4717-878c-952198efbfba",
   "metadata": {},
   "outputs": [
    {
     "data": {
      "text/latex": [
       "$\\displaystyle \\left[\\begin{matrix}a_{0}^{\\dagger} & a_{1}^{\\dagger} & a_{2}^{\\dagger} & a_{3}^{\\dagger} & a_{0} & a_{1} & a_{2} & a_{3}\\end{matrix}\\right]$"
      ],
      "text/plain": [
       "Matrix([[Dagger(a_0), Dagger(a_1), Dagger(a_2), Dagger(a_3), a_0, a_1, a_2, a_3]])"
      ]
     },
     "execution_count": 4,
     "metadata": {},
     "output_type": "execute_result"
    }
   ],
   "source": [
    "# Check whether taking the hermitin conjugate works properly\n",
    "Dagger(c)"
   ]
  },
  {
   "cell_type": "code",
   "execution_count": 5,
   "id": "8dc00947-8c99-4ce3-8018-61cdfd2ddce5",
   "metadata": {},
   "outputs": [
    {
     "data": {
      "text/latex": [
       "$\\displaystyle \\left[\\begin{matrix}\\epsilon_{0} & 0 & 0 & 0 & 0 & \\Delta & 0 & 0\\\\0 & \\epsilon_{1} & 0 & 0 & - \\Delta & 0 & \\Delta & 0\\\\0 & 0 & \\epsilon_{2} & 0 & 0 & - \\Delta & 0 & \\Delta\\\\0 & 0 & 0 & \\epsilon_{3} & 0 & 0 & - \\Delta & 0\\\\0 & - \\Delta & 0 & 0 & - \\epsilon_{0} & 0 & 0 & 0\\\\\\Delta & 0 & - \\Delta & 0 & 0 & - \\epsilon_{1} & 0 & 0\\\\0 & \\Delta & 0 & - \\Delta & 0 & 0 & - \\epsilon_{2} & 0\\\\0 & 0 & \\Delta & 0 & 0 & 0 & 0 & - \\epsilon_{3}\\end{matrix}\\right]$"
      ],
      "text/plain": [
       "Matrix([\n",
       "[epsilon_0,         0,         0,         0,          0,      Delta,          0,          0],\n",
       "[        0, epsilon_1,         0,         0,     -Delta,          0,      Delta,          0],\n",
       "[        0,         0, epsilon_2,         0,          0,     -Delta,          0,      Delta],\n",
       "[        0,         0,         0, epsilon_3,          0,          0,     -Delta,          0],\n",
       "[        0,    -Delta,         0,         0, -epsilon_0,          0,          0,          0],\n",
       "[    Delta,         0,    -Delta,         0,          0, -epsilon_1,          0,          0],\n",
       "[        0,     Delta,         0,    -Delta,          0,          0, -epsilon_2,          0],\n",
       "[        0,         0,     Delta,         0,          0,          0,          0, -epsilon_3]])"
      ]
     },
     "execution_count": 5,
     "metadata": {},
     "output_type": "execute_result"
    }
   ],
   "source": [
    "# We create the Bogoliubov Hamiltonian matrix\n",
    "epsilon = symbols(f\"epsilon_:{N}\")\n",
    "delta = symbols('Delta')\n",
    "E = banded({0: epsilon})\n",
    "C = banded({-1: (N-1)*[-delta], 1: (N-1)*[delta]})\n",
    "\n",
    "G = Matrix([[E,C], [-C,-E]])\n",
    "G"
   ]
  },
  {
   "cell_type": "code",
   "execution_count": 6,
   "id": "70b93c32-31eb-4652-8f8b-6a4cf74dac5a",
   "metadata": {},
   "outputs": [
    {
     "data": {
      "text/latex": [
       "$\\displaystyle \\left(- \\Delta a_{1}^{\\dagger} - \\epsilon_{0} a_{0}\\right) a_{0}^{\\dagger} + \\left(\\Delta a_{2}^{\\dagger} - \\epsilon_{3} a_{3}\\right) a_{3}^{\\dagger} + \\left(\\Delta a_{1} + \\epsilon_{0} a_{0}^{\\dagger}\\right) a_{0} + \\left(- \\Delta a_{2} + \\epsilon_{3} a_{3}^{\\dagger}\\right) a_{3} + \\left(\\Delta a_{0}^{\\dagger} - \\Delta a_{2}^{\\dagger} - \\epsilon_{1} a_{1}\\right) a_{1}^{\\dagger} + \\left(\\Delta a_{1}^{\\dagger} - \\Delta a_{3}^{\\dagger} - \\epsilon_{2} a_{2}\\right) a_{2}^{\\dagger} + \\left(- \\Delta a_{0} + \\Delta a_{2} + \\epsilon_{1} a_{1}^{\\dagger}\\right) a_{1} + \\left(- \\Delta a_{1} + \\Delta a_{3} + \\epsilon_{2} a_{2}^{\\dagger}\\right) a_{2}$"
      ],
      "text/plain": [
       "(-Delta*Dagger(a_1) - epsilon_0*a_0)*Dagger(a_0) + (Delta*Dagger(a_2) - epsilon_3*a_3)*Dagger(a_3) + (Delta*a_1 + epsilon_0*Dagger(a_0))*a_0 + (-Delta*a_2 + epsilon_3*Dagger(a_3))*a_3 + (Delta*Dagger(a_0) - Delta*Dagger(a_2) - epsilon_1*a_1)*Dagger(a_1) + (Delta*Dagger(a_1) - Delta*Dagger(a_3) - epsilon_2*a_2)*Dagger(a_2) + (-Delta*a_0 + Delta*a_2 + epsilon_1*Dagger(a_1))*a_1 + (-Delta*a_1 + Delta*a_3 + epsilon_2*Dagger(a_2))*a_2"
      ]
     },
     "execution_count": 6,
     "metadata": {},
     "output_type": "execute_result"
    }
   ],
   "source": [
    "# Next we show that the Bogoliubov matrix is indeed like the original matrix\n",
    "H = Dagger(c)*G*c\n",
    "h1 = H[0]\n",
    "h1"
   ]
  },
  {
   "cell_type": "code",
   "execution_count": 7,
   "id": "55e1ce78-426e-45a7-b3bf-53ac37b9ed9c",
   "metadata": {},
   "outputs": [
    {
     "data": {
      "text/latex": [
       "$\\displaystyle \\left(x_{00} a_{0}^{\\dagger} + x_{10} a_{1}^{\\dagger} + x_{20} a_{0} + x_{30} a_{1}\\right) a_{0} + \\left(x_{01} a_{0}^{\\dagger} + x_{11} a_{1}^{\\dagger} + x_{21} a_{0} + x_{31} a_{1}\\right) a_{1} + \\left(x_{02} a_{0}^{\\dagger} + x_{12} a_{1}^{\\dagger} + x_{22} a_{0} + x_{32} a_{1}\\right) a_{0}^{\\dagger} + \\left(x_{03} a_{0}^{\\dagger} + x_{13} a_{1}^{\\dagger} + x_{23} a_{0} + x_{33} a_{1}\\right) a_{1}^{\\dagger}$"
      ],
      "text/plain": [
       "(x_00*Dagger(a_0) + x_10*Dagger(a_1) + x_20*a_0 + x_30*a_1)*a_0 + (x_01*Dagger(a_0) + x_11*Dagger(a_1) + x_21*a_0 + x_31*a_1)*a_1 + (x_02*Dagger(a_0) + x_12*Dagger(a_1) + x_22*a_0 + x_32*a_1)*Dagger(a_0) + (x_03*Dagger(a_0) + x_13*Dagger(a_1) + x_23*a_0 + x_33*a_1)*Dagger(a_1)"
      ]
     },
     "execution_count": 7,
     "metadata": {},
     "output_type": "execute_result"
    }
   ],
   "source": [
    "# We will now continue showing that the this big matrix can actually be written as the sum of a smaller matrix of only two sites\n",
    "# To do this we actually first create the system for two sites with an undefined Bogoliubov matrix\n",
    "Nr = 2\n",
    "\n",
    "ar = symbols(f\"a_:{Nr}\")\n",
    "ar = [Operator(ai) for ai in ar]\n",
    "\n",
    "cr = Matrix(ar + [Dagger(ai) for ai in ar])\n",
    "\n",
    "xr = np.array(symbols(f\"x_:{2*Nr}:{2*Nr}\")).reshape((2*Nr,2*Nr))\n",
    "Gr = Matrix(xr)\n",
    "\n",
    "# Execute the formulism to get the Hamiltonian in reduced space\n",
    "Hr = Dagger(cr)*Gr*cr\n",
    "h2 = Hr[0]\n",
    "h2"
   ]
  },
  {
   "cell_type": "code",
   "execution_count": 8,
   "id": "e2d74bc5-3ed9-4f31-b458-759cd921da0e",
   "metadata": {},
   "outputs": [
    {
     "data": {
      "text/plain": [
       "{Dagger(a_3): Delta*Dagger(a_2) - epsilon_3*a_3,\n",
       " a_0: Delta*a_1 + epsilon_0*Dagger(a_0),\n",
       " a_3: -Delta*a_2 + epsilon_3*Dagger(a_3),\n",
       " Dagger(a_0): -Delta*Dagger(a_1) - epsilon_0*a_0,\n",
       " Dagger(a_1): Delta*Dagger(a_0) - Delta*Dagger(a_2) - epsilon_1*a_1,\n",
       " Dagger(a_2): Delta*Dagger(a_1) - Delta*Dagger(a_3) - epsilon_2*a_2,\n",
       " a_1: -Delta*a_0 + Delta*a_2 + epsilon_1*Dagger(a_1),\n",
       " a_2: -Delta*a_1 + Delta*a_3 + epsilon_2*Dagger(a_2)}"
      ]
     },
     "execution_count": 8,
     "metadata": {},
     "output_type": "execute_result"
    }
   ],
   "source": [
    "# We will now match the coefficients\n",
    "# First step: create a library of coefficients of the full hamiltonian \n",
    "lib = {e.args[-1]: e/e.args[-1] for e in h1.args}\n",
    "lib"
   ]
  },
  {
   "cell_type": "code",
   "execution_count": 9,
   "id": "72e5e072-16e1-4219-b1d6-c697ba6056dc",
   "metadata": {},
   "outputs": [
    {
     "data": {
      "text/latex": [
       "$\\displaystyle \\left[\\begin{matrix}\\epsilon_{0} & 0 & 0 & \\Delta\\\\0 & \\epsilon_{1} & - \\Delta & 0\\\\0 & - \\Delta & - \\epsilon_{0} & 0\\\\\\Delta & 0 & 0 & - \\epsilon_{1}\\end{matrix}\\right]$"
      ],
      "text/plain": [
       "Matrix([\n",
       "[epsilon_0,         0,          0,      Delta],\n",
       "[        0, epsilon_1,     -Delta,          0],\n",
       "[        0,    -Delta, -epsilon_0,          0],\n",
       "[    Delta,         0,          0, -epsilon_1]])"
      ]
     },
     "execution_count": 9,
     "metadata": {},
     "output_type": "execute_result"
    }
   ],
   "source": [
    "# Now, for each term in the reduced Hamiltonian, we will match the element of the terms in the reduced and full Hamiltonian\n",
    "Gr1 = Gr.copy()\n",
    "for i in range(2*Nr):\n",
    "    # get the operator of the term\n",
    "    term, ci = h2.args[i].args\n",
    "\n",
    "    # create a lookup for operators and elements for this particular term \n",
    "    store = {e.args[-1]: e/e.args[-1] for e in ncollect(lib[ci], cr).args}\n",
    "    \n",
    "    # for each operator in the term, match with the full Hamiltonian and substitute\n",
    "    for term in ncollect(term, cr).args:\n",
    "        xii, ki = term.args\n",
    "        ki = store.get(ki, 0)\n",
    "        Gr1 = Gr1.subs(xii, ki)\n",
    "Gr1"
   ]
  },
  {
   "cell_type": "markdown",
   "id": "0011e0ae-cd6a-4fbf-9297-e7a227f9dcbf",
   "metadata": {},
   "source": [
    "OK, great! We have a reduced matrix for the first two sites. Next we need to check whether the matrix of the next two sites is structually identical."
   ]
  },
  {
   "cell_type": "code",
   "execution_count": 10,
   "id": "463e4356-1849-4621-91b3-dfc06d9b5272",
   "metadata": {},
   "outputs": [
    {
     "data": {
      "text/latex": [
       "$\\displaystyle \\left[\\begin{matrix}\\epsilon_{2} & 0 & 0 & \\Delta\\\\0 & \\epsilon_{3} & - \\Delta & 0\\\\0 & - \\Delta & - \\epsilon_{2} & 0\\\\\\Delta & 0 & 0 & - \\epsilon_{3}\\end{matrix}\\right]$"
      ],
      "text/plain": [
       "Matrix([\n",
       "[epsilon_2,         0,          0,      Delta],\n",
       "[        0, epsilon_3,     -Delta,          0],\n",
       "[        0,    -Delta, -epsilon_2,          0],\n",
       "[    Delta,         0,          0, -epsilon_3]])"
      ]
     },
     "execution_count": 10,
     "metadata": {},
     "output_type": "execute_result"
    }
   ],
   "source": [
    "# We will now continue showing that the this big matrix can actually be written as the sum of a smaller matrix of only two sites\n",
    "# To do this we actually first create the system for two sites with an undefined Bogoliubov matrix\n",
    "ar = symbols(f\"a_:{N}\")\n",
    "ar = ar[2:]\n",
    "ar = [Operator(ai) for ai in ar]\n",
    "\n",
    "cr = Matrix(ar + [Dagger(ai) for ai in ar])\n",
    "\n",
    "xr = np.array(symbols(f\"x_:{2*Nr}:{2*Nr}\")).reshape((2*Nr,2*Nr))\n",
    "Gr = Matrix(xr)\n",
    "\n",
    "# Execute the formulism to get the Hamiltonian in reduced space\n",
    "Hr = Dagger(cr)*Gr*cr\n",
    "h2 = Hr[0]\n",
    "\n",
    "# Now, for each term in the reduced Hamiltonian, we will match the element of the terms in the reduced and full Hamiltonian\n",
    "for i in range(2*Nr):\n",
    "    # get the operator of the term\n",
    "    term, ci = h2.args[i].args\n",
    "\n",
    "    # create a lookup for operators and elements for this particular term \n",
    "    store = {e.args[-1]: e/e.args[-1] for e in ncollect(lib[ci], cr).args}\n",
    "    \n",
    "    # for each operator in the term, match with the full Hamiltonian and substitute\n",
    "    for term in ncollect(term, cr).args:\n",
    "        xii, ki = term.args\n",
    "        ki = store.get(ki, 0)\n",
    "        Gr = Gr.subs(xii, ki)\n",
    "Gr"
   ]
  },
  {
   "cell_type": "markdown",
   "id": "edc6ffd8-ee30-4702-8fc1-d1076756d794",
   "metadata": {},
   "source": [
    "It is!\n",
    "We can now proceed and check whether the sum of these two is actually the same as the full Hamiltonian"
   ]
  },
  {
   "cell_type": "code",
   "execution_count": 11,
   "id": "ba444559-85a5-440d-87eb-066007f5d928",
   "metadata": {},
   "outputs": [
    {
     "data": {
      "text/latex": [
       "$\\displaystyle \\left(\\Delta a_{0}^{\\dagger} - \\epsilon_{1} a_{1}\\right) a_{1}^{\\dagger} + \\left(- \\Delta a_{1}^{\\dagger} - \\epsilon_{0} a_{0}\\right) a_{0}^{\\dagger} + \\left(\\Delta a_{1}^{\\dagger} - \\epsilon_{2} a_{2}\\right) a_{2}^{\\dagger} + \\left(- \\Delta a_{2}^{\\dagger} - \\epsilon_{1} a_{1}\\right) a_{1}^{\\dagger} + \\left(\\Delta a_{2}^{\\dagger} - \\epsilon_{3} a_{3}\\right) a_{3}^{\\dagger} + \\left(- \\Delta a_{3}^{\\dagger} - \\epsilon_{2} a_{2}\\right) a_{2}^{\\dagger} + \\left(- \\Delta a_{0} + \\epsilon_{1} a_{1}^{\\dagger}\\right) a_{1} + \\left(- \\Delta a_{1} + \\epsilon_{2} a_{2}^{\\dagger}\\right) a_{2} + \\left(\\Delta a_{1} + \\epsilon_{0} a_{0}^{\\dagger}\\right) a_{0} + \\left(- \\Delta a_{2} + \\epsilon_{3} a_{3}^{\\dagger}\\right) a_{3} + \\left(\\Delta a_{2} + \\epsilon_{1} a_{1}^{\\dagger}\\right) a_{1} + \\left(\\Delta a_{3} + \\epsilon_{2} a_{2}^{\\dagger}\\right) a_{2}$"
      ],
      "text/plain": [
       "(Delta*Dagger(a_0) - epsilon_1*a_1)*Dagger(a_1) + (-Delta*Dagger(a_1) - epsilon_0*a_0)*Dagger(a_0) + (Delta*Dagger(a_1) - epsilon_2*a_2)*Dagger(a_2) + (-Delta*Dagger(a_2) - epsilon_1*a_1)*Dagger(a_1) + (Delta*Dagger(a_2) - epsilon_3*a_3)*Dagger(a_3) + (-Delta*Dagger(a_3) - epsilon_2*a_2)*Dagger(a_2) + (-Delta*a_0 + epsilon_1*Dagger(a_1))*a_1 + (-Delta*a_1 + epsilon_2*Dagger(a_2))*a_2 + (Delta*a_1 + epsilon_0*Dagger(a_0))*a_0 + (-Delta*a_2 + epsilon_3*Dagger(a_3))*a_3 + (Delta*a_2 + epsilon_1*Dagger(a_1))*a_1 + (Delta*a_3 + epsilon_2*Dagger(a_2))*a_2"
      ]
     },
     "execution_count": 11,
     "metadata": {},
     "output_type": "execute_result"
    }
   ],
   "source": [
    "# We will now continue showing that the this big matrix can actually be written as the sum of a smaller matrix of only two sites\n",
    "# To do this we actually first create the system for two sites with an undefined Bogoliubov matrix\n",
    "result = Add()\n",
    "for i in range(0, N-1, 1):\n",
    "    ar = a[i:i+2]\n",
    "    #print(ar)\n",
    "    cr = Matrix(ar + [Dagger(ai) for ai in ar])\n",
    "\n",
    "    xr = np.array(symbols(f\"x_:{4}:{4}\")).reshape((4,4))\n",
    "    Gr = Matrix(xr)\n",
    "\n",
    "    # Execute the formulism to get the Hamiltonian in reduced space\n",
    "    Hr = Dagger(cr)*Gr*cr\n",
    "    h2 = Hr[0]\n",
    "\n",
    "    # Now, for each term in the reduced Hamiltonian, we will match the element of the terms in the reduced and full Hamiltonian\n",
    "    for i in range(2*Nr):\n",
    "        # get the operator of the term\n",
    "        term, ci = h2.args[i].args\n",
    "\n",
    "        # create a lookup for operators and elements for this particular term \n",
    "        store = {e.args[-1]: e/e.args[-1] for e in ncollect(lib[ci], cr).args}\n",
    "\n",
    "        # for each operator in the term, match with the full Hamiltonian and substitute\n",
    "        for term in ncollect(term, cr).args:\n",
    "            xii, ki = term.args\n",
    "            ki = store.get(ki, 0)\n",
    "            Gr = Gr.subs(xii, ki)\n",
    "            \n",
    "    result += (Dagger(cr)*Gr*cr)[0]\n",
    "result"
   ]
  },
  {
   "cell_type": "code",
   "execution_count": 12,
   "id": "2a207c5e-1388-4512-a300-ef5f034b4b6b",
   "metadata": {},
   "outputs": [
    {
     "data": {
      "text/latex": [
       "$\\displaystyle \\left(- \\Delta a_{1}^{\\dagger} - \\epsilon_{0} a_{0}\\right) a_{0}^{\\dagger} + \\left(\\Delta a_{2}^{\\dagger} - \\epsilon_{3} a_{3}\\right) a_{3}^{\\dagger} + \\left(\\Delta a_{1} + \\epsilon_{0} a_{0}^{\\dagger}\\right) a_{0} + \\left(- \\Delta a_{2} + \\epsilon_{3} a_{3}^{\\dagger}\\right) a_{3} + \\left(\\Delta a_{0}^{\\dagger} - \\Delta a_{2}^{\\dagger} - \\epsilon_{1} a_{1}\\right) a_{1}^{\\dagger} + \\left(\\Delta a_{1}^{\\dagger} - \\Delta a_{3}^{\\dagger} - \\epsilon_{2} a_{2}\\right) a_{2}^{\\dagger} + \\left(- \\Delta a_{0} + \\Delta a_{2} + \\epsilon_{1} a_{1}^{\\dagger}\\right) a_{1} + \\left(- \\Delta a_{1} + \\Delta a_{3} + \\epsilon_{2} a_{2}^{\\dagger}\\right) a_{2}$"
      ],
      "text/plain": [
       "(-Delta*Dagger(a_1) - epsilon_0*a_0)*Dagger(a_0) + (Delta*Dagger(a_2) - epsilon_3*a_3)*Dagger(a_3) + (Delta*a_1 + epsilon_0*Dagger(a_0))*a_0 + (-Delta*a_2 + epsilon_3*Dagger(a_3))*a_3 + (Delta*Dagger(a_0) - Delta*Dagger(a_2) - epsilon_1*a_1)*Dagger(a_1) + (Delta*Dagger(a_1) - Delta*Dagger(a_3) - epsilon_2*a_2)*Dagger(a_2) + (-Delta*a_0 + Delta*a_2 + epsilon_1*Dagger(a_1))*a_1 + (-Delta*a_1 + Delta*a_3 + epsilon_2*Dagger(a_2))*a_2"
      ]
     },
     "execution_count": 12,
     "metadata": {},
     "output_type": "execute_result"
    }
   ],
   "source": [
    "H = Dagger(c)*G*c\n",
    "h1 = H[0]\n",
    "h1"
   ]
  },
  {
   "cell_type": "code",
   "execution_count": 13,
   "id": "58de9e52-8a6f-4faa-9f49-b5101eecc370",
   "metadata": {},
   "outputs": [
    {
     "data": {
      "text/latex": [
       "$\\displaystyle \\Delta a_{0}^{\\dagger} a_{1}^{\\dagger} - \\Delta a_{1}^{\\dagger} a_{0}^{\\dagger} + \\Delta a_{1}^{\\dagger} a_{2}^{\\dagger} - \\Delta a_{2}^{\\dagger} a_{1}^{\\dagger} + \\Delta a_{2}^{\\dagger} a_{3}^{\\dagger} - \\Delta a_{3}^{\\dagger} a_{2}^{\\dagger} - \\Delta a_{0} a_{1} + \\Delta a_{1} a_{0} - \\Delta a_{1} a_{2} + \\Delta a_{2} a_{1} - \\Delta a_{2} a_{3} + \\Delta a_{3} a_{2} + \\epsilon_{0} a_{0}^{\\dagger} a_{0} - \\epsilon_{0} a_{0} a_{0}^{\\dagger} + \\epsilon_{1} a_{1}^{\\dagger} a_{1} - \\epsilon_{1} a_{1} a_{1}^{\\dagger} + \\epsilon_{2} a_{2}^{\\dagger} a_{2} - \\epsilon_{2} a_{2} a_{2}^{\\dagger} + \\epsilon_{3} a_{3}^{\\dagger} a_{3} - \\epsilon_{3} a_{3} a_{3}^{\\dagger}$"
      ],
      "text/plain": [
       "Delta*Dagger(a_0)*Dagger(a_1) - Delta*Dagger(a_1)*Dagger(a_0) + Delta*Dagger(a_1)*Dagger(a_2) - Delta*Dagger(a_2)*Dagger(a_1) + Delta*Dagger(a_2)*Dagger(a_3) - Delta*Dagger(a_3)*Dagger(a_2) - Delta*a_0*a_1 + Delta*a_1*a_0 - Delta*a_1*a_2 + Delta*a_2*a_1 - Delta*a_2*a_3 + Delta*a_3*a_2 + epsilon_0*Dagger(a_0)*a_0 - epsilon_0*a_0*Dagger(a_0) + epsilon_1*Dagger(a_1)*a_1 - epsilon_1*a_1*Dagger(a_1) + epsilon_2*Dagger(a_2)*a_2 - epsilon_2*a_2*Dagger(a_2) + epsilon_3*Dagger(a_3)*a_3 - epsilon_3*a_3*Dagger(a_3)"
      ]
     },
     "execution_count": 13,
     "metadata": {},
     "output_type": "execute_result"
    }
   ],
   "source": [
    "h1.expand()"
   ]
  },
  {
   "cell_type": "code",
   "execution_count": 14,
   "id": "3688f28e-9b47-4f54-9962-f54397004030",
   "metadata": {},
   "outputs": [
    {
     "data": {
      "text/latex": [
       "$\\displaystyle \\Delta a_{0}^{\\dagger} a_{1}^{\\dagger} - \\Delta a_{1}^{\\dagger} a_{0}^{\\dagger} + \\Delta a_{1}^{\\dagger} a_{2}^{\\dagger} - \\Delta a_{2}^{\\dagger} a_{1}^{\\dagger} + \\Delta a_{2}^{\\dagger} a_{3}^{\\dagger} - \\Delta a_{3}^{\\dagger} a_{2}^{\\dagger} - \\Delta a_{0} a_{1} + \\Delta a_{1} a_{0} - \\Delta a_{1} a_{2} + \\Delta a_{2} a_{1} - \\Delta a_{2} a_{3} + \\Delta a_{3} a_{2} + \\epsilon_{0} a_{0}^{\\dagger} a_{0} - \\epsilon_{0} a_{0} a_{0}^{\\dagger} + 2 \\epsilon_{1} a_{1}^{\\dagger} a_{1} - 2 \\epsilon_{1} a_{1} a_{1}^{\\dagger} + 2 \\epsilon_{2} a_{2}^{\\dagger} a_{2} - 2 \\epsilon_{2} a_{2} a_{2}^{\\dagger} + \\epsilon_{3} a_{3}^{\\dagger} a_{3} - \\epsilon_{3} a_{3} a_{3}^{\\dagger}$"
      ],
      "text/plain": [
       "Delta*Dagger(a_0)*Dagger(a_1) - Delta*Dagger(a_1)*Dagger(a_0) + Delta*Dagger(a_1)*Dagger(a_2) - Delta*Dagger(a_2)*Dagger(a_1) + Delta*Dagger(a_2)*Dagger(a_3) - Delta*Dagger(a_3)*Dagger(a_2) - Delta*a_0*a_1 + Delta*a_1*a_0 - Delta*a_1*a_2 + Delta*a_2*a_1 - Delta*a_2*a_3 + Delta*a_3*a_2 + epsilon_0*Dagger(a_0)*a_0 - epsilon_0*a_0*Dagger(a_0) + 2*epsilon_1*Dagger(a_1)*a_1 - 2*epsilon_1*a_1*Dagger(a_1) + 2*epsilon_2*Dagger(a_2)*a_2 - 2*epsilon_2*a_2*Dagger(a_2) + epsilon_3*Dagger(a_3)*a_3 - epsilon_3*a_3*Dagger(a_3)"
      ]
     },
     "execution_count": 14,
     "metadata": {},
     "output_type": "execute_result"
    }
   ],
   "source": [
    "result.expand()"
   ]
  },
  {
   "cell_type": "markdown",
   "id": "f8fb67c3-b7bc-419e-bca8-0a5b1db8b1be",
   "metadata": {},
   "source": [
    "The two are nearly identical. The center energy terms are bing counted twice..."
   ]
  },
  {
   "cell_type": "code",
   "execution_count": 15,
   "id": "74b77412-bfc5-4584-aeb8-d36530ebe2f1",
   "metadata": {},
   "outputs": [
    {
     "data": {
      "text/plain": [
       "True"
      ]
     },
     "execution_count": 15,
     "metadata": {},
     "output_type": "execute_result"
    }
   ],
   "source": [
    "# When we remove the double counted energies teh two results are equal...\n",
    "out = result.copy()\n",
    "for i in [1, 2]:\n",
    "    out += epsilon[i]*a[i]*Dagger(a[i]) - epsilon[i]*Dagger(a[i])*a[i]\n",
    "    \n",
    "h1.expand() == out.expand()"
   ]
  },
  {
   "cell_type": "markdown",
   "id": "b73105f8-9ab6-456b-b69c-3362584b2c0e",
   "metadata": {},
   "source": [
    "# Programmetic construction of the BdG matrix\n",
    "Considering the construction of the Bogoliubov de Gennes Matrix is procedural we should be able to construct it using some programmatic procedures. \n",
    "\n",
    "The Hamiltonian that we will take here is\n",
    "\n",
    "$\\Delta \\sum_{k=0}^{N} \\big(c_{k+1}^{\\dagger}c_{k}^{\\dagger} + \\mathrm{h.c.}\\big)\n",
    "- \\mu \\sum_{k=0}^{N} \\big( c_{k}^{\\dagger}c_{k} + \\mathrm{h.c.} \\big) \n",
    "- \\tau \\sum_{k=0}^{N} \\big(c_{k+1}^{\\dagger}c_{k} + \\mathrm{h.c.} \\big)$ \n",
    "\n",
    "There is a conveniant way to construct these summations in Sympy using the Sum functions. This shows a nice mathematical representation of the sum until you actually execute the summation. Unfortunately the Indexed object are always commutation despite setting those to non-commutative. These makes it useles for operators. "
   ]
  },
  {
   "cell_type": "code",
   "execution_count": 114,
   "id": "31c381bd-2280-4a36-b5cc-0337f59f8406",
   "metadata": {},
   "outputs": [
    {
     "data": {
      "text/latex": [
       "$\\displaystyle {c}_{0} {c}_{1} + {c}_{1} {c}_{0}$"
      ],
      "text/plain": [
       "c[0]*c[1] + c[1]*c[0]"
      ]
     },
     "execution_count": 114,
     "metadata": {},
     "output_type": "execute_result"
    }
   ],
   "source": [
    "# Checking the commutative behavior of Indexed objects\n",
    "Indexed.is_commutative = False\n",
    "c = IndexedBase('c', commutative=False)\n",
    "# This is not what we expect -> these commute\n",
    "c[0]*c[1] + (c[1]*c[0])"
   ]
  },
  {
   "cell_type": "code",
   "execution_count": 115,
   "id": "2fca7a43-eba0-4c91-a9ab-ae14955d652d",
   "metadata": {},
   "outputs": [
    {
     "data": {
      "text/latex": [
       "$\\displaystyle c_{0} c_{1} + c_{1} c_{0}$"
      ],
      "text/plain": [
       "c0*c1 + c1*c0"
      ]
     },
     "execution_count": 115,
     "metadata": {},
     "output_type": "execute_result"
    }
   ],
   "source": [
    "# This is what we are supposed to get\n",
    "c = symbols('c:2', commutative=False)\n",
    "c[0]*c[1] + c[1]*c[0]"
   ]
  },
  {
   "cell_type": "markdown",
   "id": "308f9672-5e9b-470d-ad6f-b2b841118b79",
   "metadata": {},
   "source": [
    "Because of this we need to create a Sum function ourself. We will use this to construct the Hamiltonian"
   ]
  },
  {
   "cell_type": "code",
   "execution_count": 125,
   "id": "58c777b6-ac02-4790-b901-25607dd25ce5",
   "metadata": {},
   "outputs": [
    {
     "data": {
      "text/latex": [
       "$\\displaystyle \\Delta \\left(a_{1}^{\\dagger} a_{0}^{\\dagger} + a_{1} a_{0}\\right) - \\tau \\left(a_{0}^{\\dagger} a_{1} + a_{1}^{\\dagger} a_{0}\\right) - a_{0}^{\\dagger} a_{0} - a_{1}^{\\dagger} a_{1}$"
      ],
      "text/plain": [
       "Delta*(Dagger(a_1)*Dagger(a_0) + a_1*a_0) - tau*(Dagger(a_0)*a_1 + Dagger(a_1)*a_0) - Dagger(a_0)*a_0 - Dagger(a_1)*a_1"
      ]
     },
     "execution_count": 125,
     "metadata": {},
     "output_type": "execute_result"
    }
   ],
   "source": [
    "# Simple summation function\n",
    "def Sum(fnc, n, N):\n",
    "    result = Add()\n",
    "    for i in range(n+N):\n",
    "        result += fnc(i)\n",
    "    return result\n",
    "        \n",
    "# Create the non-commuting operators\n",
    "n = 2\n",
    "a = symbols(f\"a_:{n}\")\n",
    "a = [Operator(ai) for ai in a]\n",
    "\n",
    "# Construct the Hamiltonian\n",
    "H0 = -Sum(lambda i: Dagger(a[i])*a[i] , 0, n) + \\\n",
    "     -tau* Sum(lambda i: Dagger(a[i+1])*a[i] + Dagger(a[i])*a[i+1] , 0, n-1) + \\\n",
    "     delta*Sum(lambda i: Dagger(a[i]*a[i+1]) + a[i+1]*a[i] , 0, n-1)\n",
    "\n",
    "# NOTE: we already limit the index of summations that include i+1 terms to n-1\n",
    "# Otherwise we would need include an extra operator term and later remove terms included that extra operator with\n",
    "# H = drop_terms_containing(H0.expand(), [a[-1], Dagger(a[-1])])\n",
    "# a = a[:-1]\n",
    "H0"
   ]
  },
  {
   "cell_type": "markdown",
   "id": "523b3444-9ef2-4674-acbc-9f4c23ef133a",
   "metadata": {},
   "source": [
    "So far we just created the original Hamiltonian. To construct a BdG Hamiltonian we need to use some commutation identities and rewrite the Hamiltonian. \n",
    "\n",
    "The $\\mu$-term\n",
    "\n",
    "$a_{k}^{\\dagger}a_{k} + a_{k+1}^{\\dagger}a_{k} = 1 \\to a_{k}^{\\dagger}a_{k} = \\frac{1}{2}a_{k}^{\\dagger}a_{k} + \\frac{1}{2}(1-a_{k}a_{k}^{\\dagger})$\n",
    "\n",
    "The $\\Delta$-term\n",
    "\n",
    "$a_{k+1}^{\\dagger}a_{k}^{\\dagger} + a_{k}^{\\dagger}a_{k+1}^{\\dagger} = 0 \\to a_{k+1}^{\\dagger}a_{k}^{\\dagger} = \\frac{1}{2}a_{k+1}^{\\dagger}a_{k}^{\\dagger} - \\frac{1}{2}a_{k}^{\\dagger}a_{k+1}^{\\dagger}$\n",
    "\n",
    "$a_{k+1} a_{k} + a_{k} a_{k+1} = 0 \\to a_{k+1}a_{k} = \\frac{1}{2}a_{k+1}a_{k}- \\frac{1}{2}a_{k}a_{k+1}$\n",
    "\n",
    "The $\\tau$-term\n",
    "\n",
    "$a_{k+1}^{\\dagger}a_{k} + a_{k}^{\\dagger}a_{k+1} = 0 \\to a_{k+1}^{\\dagger}a_{k} = \\frac{1}{2}a_{k+1}^{\\dagger}a_{k} - \\frac{1}{2}a_{k}^{\\dagger}a_{k+1}$\n",
    "\n",
    "$a_{k}^{\\dagger}a_{k+1} + a_{k+1}^{\\dagger}a_{k} = 0 \\to a_{k}^{\\dagger}a_{k+1} = \\frac{1}{2}a_{k}^{\\dagger}a_{k+1} - \\frac{1}{2}a_{k+1}^{\\dagger}a_{k}$\n",
    "\n",
    "After making these replacement we will be able to construct the BdG Hamiltonian"
   ]
  },
  {
   "cell_type": "code",
   "execution_count": 135,
   "id": "b01313b2-c66b-43b1-88b3-17686288c099",
   "metadata": {},
   "outputs": [
    {
     "data": {
      "text/latex": [
       "$\\displaystyle 0.5 \\Delta a_{0}^{\\dagger} a_{1}^{\\dagger} - 0.5 \\Delta a_{1}^{\\dagger} a_{0}^{\\dagger} - 0.5 \\Delta a_{0} a_{1} + 0.5 \\Delta a_{1} a_{0} - 0.5 \\tau a_{0}^{\\dagger} a_{1} - 0.5 \\tau a_{1}^{\\dagger} a_{0} + 0.5 \\tau a_{0} a_{1}^{\\dagger} + 0.5 \\tau a_{1} a_{0}^{\\dagger} - 1.0 - 0.5 a_{0}^{\\dagger} a_{0} - 0.5 a_{1}^{\\dagger} a_{1} + 0.5 a_{0} a_{0}^{\\dagger} + 0.5 a_{1} a_{1}^{\\dagger}$"
      ],
      "text/plain": [
       "0.5*Delta*Dagger(a_0)*Dagger(a_1) - 0.5*Delta*Dagger(a_1)*Dagger(a_0) - 0.5*Delta*a_0*a_1 + 0.5*Delta*a_1*a_0 - 0.5*tau*Dagger(a_0)*a_1 - 0.5*tau*Dagger(a_1)*a_0 + 0.5*tau*a_0*Dagger(a_1) + 0.5*tau*a_1*Dagger(a_0) - 1.0 - 0.5*Dagger(a_0)*a_0 - 0.5*Dagger(a_1)*a_1 + 0.5*a_0*Dagger(a_0) + 0.5*a_1*Dagger(a_1)"
      ]
     },
     "execution_count": 135,
     "metadata": {},
     "output_type": "execute_result"
    }
   ],
   "source": [
    "# To replace them we need to trick because Sympy's subs method we do the replacement sequentially which means, \n",
    "# parts that are added duning early replacements will we replaced later on during later replacements.\n",
    "# The trick is to do the replcement is two stages using dummies in between.\n",
    "submap = [[Dagger(a[i])*a[i], 1/2*(Dagger(a[i])*a[i] + 1 - a[i]*Dagger(a[i]))] for i in range(2)] + \\\n",
    "         [[Dagger(a[i]*a[j]), 1/2*(Dagger(a[j]*a[i]) - Dagger(a[i]*a[j]))] for i in range(2) for j in range(2)] + \\\n",
    "         [[a[i]*a[j], 1/2*(a[i]*a[j] - a[j]*a[i])] for i in range(2) for j in range(2)] + \\\n",
    "         [[Dagger(a[i+1])*a[i], 1/2*(Dagger(a[i+1])*a[i] - a[i]*Dagger(a[i+1]))] for i in range(2-1)] + \\\n",
    "         [[Dagger(a[i])*a[i+1], 1/2*(Dagger(a[i])*a[i+1] - a[i+1]*Dagger(a[i]))] for i in range(2-1)]\n",
    "\n",
    "H = H0.expand()\n",
    "for item in submap:\n",
    "    key = Dummy()\n",
    "    old, new = item\n",
    "    \n",
    "    H = H.subs(old, key)\n",
    "    item[0] = key\n",
    "    \n",
    "H = H.subs(submap)\n",
    "H.expand()"
   ]
  },
  {
   "cell_type": "code",
   "execution_count": 136,
   "id": "c0710c88-3119-4ce9-b07d-fa414adf8018",
   "metadata": {},
   "outputs": [
    {
     "data": {
      "text/latex": [
       "$\\displaystyle \\left[\\begin{matrix}a_{0}^{\\dagger} & a_{1}^{\\dagger} & a_{0} & a_{1}\\end{matrix}\\right]$"
      ],
      "text/plain": [
       "Matrix([[Dagger(a_0), Dagger(a_1), a_0, a_1]])"
      ]
     },
     "execution_count": 136,
     "metadata": {},
     "output_type": "execute_result"
    }
   ],
   "source": [
    "# We construct the operator vectors!\n",
    "c = Matrix(a + [Dagger(ai) for ai in a])\n",
    "Dagger(c)"
   ]
  },
  {
   "cell_type": "code",
   "execution_count": 137,
   "id": "48c0b081-b82f-4959-938a-fc82b2f809b6",
   "metadata": {},
   "outputs": [
    {
     "data": {
      "text/latex": [
       "$\\displaystyle -1.0 + a_{0}^{\\dagger} \\left(0.5 \\Delta a_{1}^{\\dagger} - 0.5 \\tau a_{1} - 0.5 a_{0}\\right) + a_{1}^{\\dagger} \\left(- 0.5 \\Delta a_{0}^{\\dagger} - 0.5 \\tau a_{0} - 0.5 a_{1}\\right) + a_{0} \\left(- 0.5 \\Delta a_{1} + 0.5 \\tau a_{1}^{\\dagger} + 0.5 a_{0}^{\\dagger}\\right) + a_{1} \\left(0.5 \\Delta a_{0} + 0.5 \\tau a_{0}^{\\dagger} + 0.5 a_{1}^{\\dagger}\\right)$"
      ],
      "text/plain": [
       "-1.0 + Dagger(a_0)*(0.5*Delta*Dagger(a_1) - 0.5*tau*a_1 - 0.5*a_0) + Dagger(a_1)*(-0.5*Delta*Dagger(a_0) - 0.5*tau*a_0 - 0.5*a_1) + a_0*(-0.5*Delta*a_1 + 0.5*tau*Dagger(a_1) + 0.5*Dagger(a_0)) + a_1*(0.5*Delta*a_0 + 0.5*tau*Dagger(a_0) + 0.5*Dagger(a_1))"
      ]
     },
     "execution_count": 137,
     "metadata": {},
     "output_type": "execute_result"
    }
   ],
   "source": [
    "# Before we can create the \n",
    "expr = ncollect(H.expand())\n",
    "expr"
   ]
  },
  {
   "cell_type": "code",
   "execution_count": 138,
   "id": "f0ef6b6d-97e1-4e74-ba2e-27bb1136d354",
   "metadata": {},
   "outputs": [
    {
     "data": {
      "text/latex": [
       "$\\displaystyle \\left[\\begin{matrix}-0.5 & - 0.5 \\tau & 0 & 0.5 \\Delta\\\\- 0.5 \\tau & -0.5 & - 0.5 \\Delta & 0\\\\0 & - 0.5 \\Delta & 0.5 & 0.5 \\tau\\\\0.5 \\Delta & 0 & 0.5 \\tau & 0.5\\end{matrix}\\right]$"
      ],
      "text/plain": [
       "Matrix([\n",
       "[     -0.5,   -0.5*tau,          0, 0.5*Delta],\n",
       "[ -0.5*tau,       -0.5, -0.5*Delta,         0],\n",
       "[        0, -0.5*Delta,        0.5,   0.5*tau],\n",
       "[0.5*Delta,          0,    0.5*tau,       0.5]])"
      ]
     },
     "execution_count": 138,
     "metadata": {},
     "output_type": "execute_result"
    }
   ],
   "source": [
    "# This routine actually creates the BdG matrix Hamiltonian. \n",
    "# First we express the Hamiltonian in terms of the leading (!!) operators.\n",
    "expr = ncollect(H.expand())\n",
    "\n",
    "# Next we collect the terms belonging to each of the elements in the operator vector Dagger(c). \n",
    "# Those select the rows in the matrix\n",
    "G = Matrix.zeros(len(c))\n",
    "expr = ncollect(H.expand())\n",
    "for i, l_ops in enumerate(Dagger(c)):\n",
    "    h = get_coefficient(expr, l_ops)\n",
    "    \n",
    "    # For each term, we again match the operators but now to the operator vector c (!!)\n",
    "    # This selects the columns. \n",
    "    for j, r_ops in enumerate(c):\n",
    "        coeff = get_coefficient(h, r_ops)\n",
    "        G[i,j] = coeff \n",
    "\n",
    "# This gives us the BdG Hamiltonian in matrix form\n",
    "G"
   ]
  },
  {
   "cell_type": "markdown",
   "id": "35a5d2a3-5017-4ea0-9e0a-b5061c28eb9a",
   "metadata": {},
   "source": [
    "The original Hamiltonain in expanded sum-form can be obtained again (up to constant terms) using\n",
    "\n",
    "$\\mathrm{C^{\\dagger} g C}$\n",
    "\n",
    "where $\\mathrm{C^{\\dagger}} = [a_0^{\\dagger}, a_1^{\\dagger}, ... a_N^{\\dagger}, a_0, a_1, ..., a_N]$."
   ]
  },
  {
   "cell_type": "code",
   "execution_count": 139,
   "id": "2a9a953c-bf8c-4c0f-b79e-4f097333a783",
   "metadata": {},
   "outputs": [
    {
     "data": {
      "text/latex": [
       "$\\displaystyle a_{0}^{\\dagger} \\left(0.5 \\Delta a_{1}^{\\dagger} - 0.5 \\tau a_{1} - 0.5 a_{0}\\right) + a_{1}^{\\dagger} \\left(- 0.5 \\Delta a_{0}^{\\dagger} - 0.5 \\tau a_{0} - 0.5 a_{1}\\right) + a_{0} \\left(- 0.5 \\Delta a_{1} + 0.5 \\tau a_{1}^{\\dagger} + 0.5 a_{0}^{\\dagger}\\right) + a_{1} \\left(0.5 \\Delta a_{0} + 0.5 \\tau a_{0}^{\\dagger} + 0.5 a_{1}^{\\dagger}\\right)$"
      ],
      "text/plain": [
       "Dagger(a_0)*(0.5*Delta*Dagger(a_1) - 0.5*tau*a_1 - 0.5*a_0) + Dagger(a_1)*(-0.5*Delta*Dagger(a_0) - 0.5*tau*a_0 - 0.5*a_1) + a_0*(-0.5*Delta*a_1 + 0.5*tau*Dagger(a_1) + 0.5*Dagger(a_0)) + a_1*(0.5*Delta*a_0 + 0.5*tau*Dagger(a_0) + 0.5*Dagger(a_1))"
      ]
     },
     "execution_count": 139,
     "metadata": {},
     "output_type": "execute_result"
    }
   ],
   "source": [
    "# Note the constant term '1' is missing\n",
    "ncollect((Dagger(c)*G*c)[0].expand())"
   ]
  },
  {
   "cell_type": "markdown",
   "id": "bdeeb0a9-21aa-46d1-8c3c-3c46436cf931",
   "metadata": {},
   "source": [
    "# alternative expression using Pauli matrices\n",
    "Finally following https://topocondmat.org/w1_topointro/1D.html it should also be possible to express the BdG Hamiltonian using Pauli-matrixes. Ofcourse, this would help you actually constuct the Hamiltonian, it's just a nice way to write it. "
   ]
  },
  {
   "cell_type": "code",
   "execution_count": 95,
   "id": "12ded158-60c2-4e22-b874-5563f605760d",
   "metadata": {},
   "outputs": [],
   "source": [
    "# We define the Pauli-matrices\n",
    "sigma0 = Matrix([[1,0],[0,1]])\n",
    "sigmax = Matrix([[0,1],[1,0]])\n",
    "sigmay = Matrix([[0,-1j],[1j,0]])\n",
    "sigmaz = Matrix([[1,0],[0,-1]])"
   ]
  },
  {
   "cell_type": "markdown",
   "id": "113a1765-c350-4828-88d4-6295ee176e62",
   "metadata": {},
   "source": [
    "The approach makes use of a 'selecting' vector $|n\\rangle$ of size n consisting of a single non-zero element which is 1 i.e.\n",
    "\n",
    "$|n\\rangle = [..., 1,...]^{T}$ e.g. $|2\\rangle = [0, 0, 1, ....]$\n",
    "\n",
    "Note, we index from 0 here."
   ]
  },
  {
   "cell_type": "code",
   "execution_count": 97,
   "id": "4ac8da26-4659-4976-a668-d62bee5f262c",
   "metadata": {},
   "outputs": [
    {
     "data": {
      "text/latex": [
       "$\\displaystyle \\left[\\begin{matrix}0\\\\1\\\\0\\\\0\\end{matrix}\\right]$"
      ],
      "text/plain": [
       "Matrix([\n",
       "[0],\n",
       "[1],\n",
       "[0],\n",
       "[0]])"
      ]
     },
     "execution_count": 97,
     "metadata": {},
     "output_type": "execute_result"
    }
   ],
   "source": [
    "# Conveniance function to create those special 'selecting vectors'\n",
    "def nvec(N, k = 0):\n",
    "    v = Matrix(N*[0])\n",
    "    v[k] = 1\n",
    "    return v\n",
    "nvec(4, 1)"
   ]
  },
  {
   "cell_type": "markdown",
   "id": "676af08d-0f52-46c4-8041-206a2999c363",
   "metadata": {},
   "source": [
    "At the website they give the folowing identity:\n",
    "\n",
    "$\\mathrm{C^{\\dagger}} \\sigma_z |n\\rangle \\langle n| \\mathrm{C} = 2 a_n^{\\dagger} a_n - 1$\n",
    "\n",
    "This seems weird because $\\sigma_z$ is of size [2,2] but $|n\\rangle \\langle n|$ will be of size [n,n]. Moreover $\\mathrm{C} is on size [2*n,1]$. To resolve this we need to take into account the Tensor product of $\\sigma_z$ and $|n\\rangle \\langle n|$ which will be of size [2n, 2n]\n",
    "\n",
    "$\\mathrm{C^{\\dagger}} \\Big( \\sigma_z \\otimes |n\\rangle \\langle n| \\Big) \\mathrm{C} = 2 a_n^{\\dagger} a_n - 1$"
   ]
  },
  {
   "cell_type": "code",
   "execution_count": 101,
   "id": "bc5166f1-3730-45a0-98ee-d759059cdf31",
   "metadata": {},
   "outputs": [
    {
     "data": {
      "text/latex": [
       "$\\displaystyle \\mu a_{0}^{\\dagger} a_{0} - \\mu a_{0} a_{0}^{\\dagger}$"
      ],
      "text/plain": [
       "mu*Dagger(a_0)*a_0 - mu*a_0*Dagger(a_0)"
      ]
     },
     "execution_count": 101,
     "metadata": {},
     "output_type": "execute_result"
    }
   ],
   "source": [
    "# We check the identity\n",
    "# We just reuse the c-vector of before\n",
    "n0 = nvec(int(len(c)/2), 0)\n",
    "eq = Dagger(c) * TensorProduct(mu*sigmaz, n0*Dagger(n0)) * c\n",
    "eq[0]"
   ]
  },
  {
   "cell_type": "markdown",
   "id": "291f0c07-3fab-4e91-ade6-5f9c52ed6666",
   "metadata": {},
   "source": [
    "Taking into account the commutation relation $a_0^{\\dagger}a_0 + a_0 a_0^{\\dagger} = 1$, this identity is indeed correct.\n",
    "\n",
    "Next we can check the formation of the BdG Hamiltonian i.e."
   ]
  },
  {
   "cell_type": "code",
   "execution_count": 104,
   "id": "c8a6057e-fcc4-403a-8b96-e9d1128e95f9",
   "metadata": {},
   "outputs": [
    {
     "data": {
      "text/latex": [
       "$\\displaystyle \\left[\\begin{matrix}0 & \\tau & 0 & 1.0 \\Delta\\\\0 & 0 & 0 & 0\\\\0 & - 1.0 \\Delta & 0 & - \\tau\\\\0 & 0 & 0 & 0\\end{matrix}\\right]$"
      ],
      "text/plain": [
       "Matrix([\n",
       "[0,        tau, 0, 1.0*Delta],\n",
       "[0,          0, 0,         0],\n",
       "[0, -1.0*Delta, 0,      -tau],\n",
       "[0,          0, 0,         0]])"
      ]
     },
     "execution_count": 104,
     "metadata": {},
     "output_type": "execute_result"
    }
   ],
   "source": [
    "n1 = nvec(2, 1)\n",
    "TensorProduct(tau*sigmaz + 1j*delta*sigmay, n0*Dagger(n1))"
   ]
  },
  {
   "cell_type": "code",
   "execution_count": 105,
   "id": "d079c3ea-f4c9-4c53-9d96-e7909cd0c278",
   "metadata": {},
   "outputs": [
    {
     "data": {
      "text/latex": [
       "$\\displaystyle \\left[\\begin{matrix}0 & 0 & 0 & 0\\\\\\tau^{\\dagger} & 0 & - 1.0 \\Delta^{\\dagger} & 0\\\\0 & 0 & 0 & 0\\\\1.0 \\Delta^{\\dagger} & 0 & - \\tau^{\\dagger} & 0\\end{matrix}\\right]$"
      ],
      "text/plain": [
       "Matrix([\n",
       "[                0, 0,                  0, 0],\n",
       "[      Dagger(tau), 0, -1.0*Dagger(Delta), 0],\n",
       "[                0, 0,                  0, 0],\n",
       "[1.0*Dagger(Delta), 0,       -Dagger(tau), 0]])"
      ]
     },
     "execution_count": 105,
     "metadata": {},
     "output_type": "execute_result"
    }
   ],
   "source": [
    "Dagger(TensorProduct(tau*sigmaz + 1j*delta*sigmay, n0*Dagger(n1)))"
   ]
  },
  {
   "cell_type": "code",
   "execution_count": 140,
   "id": "f1784461-4d53-4f47-baa5-7c9244277287",
   "metadata": {},
   "outputs": [
    {
     "data": {
      "text/latex": [
       "$\\displaystyle \\left[\\begin{matrix}- 0.5 \\mu & - 0.5 \\tau & 0 & 0.5 \\Delta\\\\- 0.5 \\tau^{\\dagger} & - 0.5 \\mu & - 0.5 \\Delta^{\\dagger} & 0\\\\0 & - 0.5 \\Delta & 0.5 \\mu & 0.5 \\tau\\\\0.5 \\Delta^{\\dagger} & 0 & 0.5 \\tau^{\\dagger} & 0.5 \\mu\\end{matrix}\\right]$"
      ],
      "text/plain": [
       "Matrix([\n",
       "[          -0.5*mu,   -0.5*tau,                  0, 0.5*Delta],\n",
       "[ -0.5*Dagger(tau),    -0.5*mu, -0.5*Dagger(Delta),         0],\n",
       "[                0, -0.5*Delta,             0.5*mu,   0.5*tau],\n",
       "[0.5*Dagger(Delta),          0,    0.5*Dagger(tau),    0.5*mu]])"
      ]
     },
     "execution_count": 140,
     "metadata": {},
     "output_type": "execute_result"
    }
   ],
   "source": [
    "# Lets construct the whole thing\n",
    "\n",
    "result = Matrix.zeros(2*n, 2*n) #Add()\n",
    "for ni in range(n):\n",
    "    n0 = nvec(n, ni)\n",
    "    result += -0.5*TensorProduct(mu*sigmaz, n0*Dagger(n0))\n",
    "    \n",
    "    if ni < n-1:\n",
    "        n1 = nvec(n, ni+1)\n",
    "        result += -0.5*TensorProduct(tau*sigmaz - 1j*delta*sigmay, n0*Dagger(n1))\n",
    "        result += -0.5*TensorProduct(Dagger(tau*sigmaz - 1j*delta*sigmay), n1*Dagger(n0))\n",
    "result"
   ]
  },
  {
   "cell_type": "code",
   "execution_count": 110,
   "id": "1cc7c5e6-6b24-4195-85f9-ef4708657fc6",
   "metadata": {},
   "outputs": [
    {
     "data": {
      "text/latex": [
       "$\\displaystyle a_{0}^{\\dagger} \\left(- 0.5 \\Delta a_{1}^{\\dagger} - 0.5 \\mu a_{0} - 0.5 \\tau a_{1}\\right) + a_{1}^{\\dagger} \\left(- 0.5 \\mu a_{1} + 0.5 \\Delta^{\\dagger} a_{0}^{\\dagger} - 0.5 \\tau^{\\dagger} a_{0}\\right) + a_{0} \\left(0.5 \\Delta a_{1} + 0.5 \\mu a_{0}^{\\dagger} + 0.5 \\tau a_{1}^{\\dagger}\\right) + a_{1} \\left(0.5 \\mu a_{1}^{\\dagger} - 0.5 \\Delta^{\\dagger} a_{0} + 0.5 \\tau^{\\dagger} a_{0}^{\\dagger}\\right)$"
      ],
      "text/plain": [
       "Dagger(a_0)*(-0.5*Delta*Dagger(a_1) - 0.5*mu*a_0 - 0.5*tau*a_1) + Dagger(a_1)*(-0.5*mu*a_1 + 0.5*Dagger(Delta)*Dagger(a_0) - 0.5*Dagger(tau)*a_0) + a_0*(0.5*Delta*a_1 + 0.5*mu*Dagger(a_0) + 0.5*tau*Dagger(a_1)) + a_1*(0.5*mu*Dagger(a_1) - 0.5*Dagger(Delta)*a_0 + 0.5*Dagger(tau)*Dagger(a_0))"
      ]
     },
     "execution_count": 110,
     "metadata": {},
     "output_type": "execute_result"
    }
   ],
   "source": [
    "# The Hamiltonian in sum-form can again be obtained by multiplying with the operator vector. \n",
    "ncollect((Dagger(c)*result*c)[0].expand())"
   ]
  },
  {
   "cell_type": "code",
   "execution_count": null,
   "id": "ecfdbc25-131d-4a44-8469-f512de909846",
   "metadata": {},
   "outputs": [],
   "source": []
  }
 ],
 "metadata": {
  "kernelspec": {
   "display_name": "Python 3.7 (quantum)",
   "language": "python",
   "name": "quantum"
  },
  "language_info": {
   "codemirror_mode": {
    "name": "ipython",
    "version": 3
   },
   "file_extension": ".py",
   "mimetype": "text/x-python",
   "name": "python",
   "nbconvert_exporter": "python",
   "pygments_lexer": "ipython3",
   "version": "3.7.11"
  }
 },
 "nbformat": 4,
 "nbformat_minor": 5
}
